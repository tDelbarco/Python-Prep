{
 "cells": [
  {
   "attachments": {},
   "cell_type": "markdown",
   "metadata": {},
   "source": [
    "## Clases y Programación Orientada a Objetos"
   ]
  },
  {
   "attachments": {},
   "cell_type": "markdown",
   "metadata": {},
   "source": [
    "1) Crear la clase vehículo que contenga los atributos:<br>\n",
    "Color<br>\n",
    "Si es moto, auto, camioneta ó camión<br>\n",
    "Cilindrada del motor"
   ]
  },
  {
   "cell_type": "code",
   "execution_count": 1,
   "metadata": {},
   "outputs": [],
   "source": [
    "class vehiculo:\n",
    "    def __init__(self, color, tipo, cilindrada):\n",
    "        self.color = color\n",
    "        self.tipo = tipo\n",
    "        self.cilindrada = cilindrada"
   ]
  },
  {
   "attachments": {},
   "cell_type": "markdown",
   "metadata": {},
   "source": [
    "2) A la clase Vehiculo creada en el punto 1, agregar los siguientes métodos:<br>\n",
    "Acelerar<br>\n",
    "Frenar<br>\n",
    "Doblar<br>"
   ]
  },
  {
   "cell_type": "code",
   "execution_count": 2,
   "metadata": {},
   "outputs": [],
   "source": [
    "class vehiculo:\n",
    "    def __init__(self, color, tipo, cilindrada,velocidad = 0,direccion = 0):\n",
    "        self.color = color\n",
    "        self.tipo = tipo\n",
    "        self.cilindrada = cilindrada\n",
    "        self.velocidad = velocidad\n",
    "        self.direccion = direccion\n",
    "\n",
    "    def Acelerar(self,vel):\n",
    "        self.velocidad += vel\n",
    "    \n",
    "    def Frenar(self,vel):\n",
    "        self.velocidad -= vel\n",
    "\n",
    "    def Doblar(self, grados):\n",
    "        self.direccion += grados\n",
    "    "
   ]
  },
  {
   "attachments": {},
   "cell_type": "markdown",
   "metadata": {},
   "source": [
    "3) Instanciar 3 objetos de la clase vehículo y ejecutar sus métodos, probar luego el resultado"
   ]
  },
  {
   "cell_type": "code",
   "execution_count": 3,
   "metadata": {},
   "outputs": [],
   "source": [
    "ve1= vehiculo(\"azul\",\"moto\",10)\n",
    "ve2= vehiculo(\"rojo\",\"auto\",20)\n",
    "ve3= vehiculo(\"azul\",\"camion\",60)\n",
    "\n",
    "ve1.Acelerar(3)\n",
    "ve1.Doblar(5)\n",
    "\n",
    "ve2.Acelerar(50)\n",
    "ve2.Frenar(45)"
   ]
  },
  {
   "attachments": {},
   "cell_type": "markdown",
   "metadata": {},
   "source": [
    "4) Agregar a la clase Vehiculo, un método que muestre su estado, es decir, a que velocidad se encuentra y su dirección. Y otro método que muestre color, tipo y cilindrada"
   ]
  },
  {
   "cell_type": "code",
   "execution_count": 7,
   "metadata": {},
   "outputs": [
    {
     "name": "stdout",
     "output_type": "stream",
     "text": [
      "Velocidad: 0 - Dirección: 0\n",
      "Soy moto de color rojo y mi cilindrada es de 5 litros\n"
     ]
    }
   ],
   "source": [
    "class vehiculo:\n",
    "    def __init__(self, color, tipo, cilindrada,velocidad = 0,direccion = 0):\n",
    "        self.color = color\n",
    "        self.tipo = tipo\n",
    "        self.cilindrada = cilindrada\n",
    "        self.velocidad = velocidad\n",
    "        self.direccion = direccion\n",
    "\n",
    "    def Acelerar(self,vel):\n",
    "        self.velocidad += vel\n",
    "    \n",
    "    def Frenar(self,vel):\n",
    "        self.velocidad -= vel\n",
    "\n",
    "    def Doblar(self, grados):\n",
    "        self.direccion += grados\n",
    "    \n",
    "    def Estado(self):\n",
    "        print(\"Velocidad:\", self.velocidad, \"- Dirección:\", self.direccion)\n",
    "\n",
    "    def Detalle(self):\n",
    "        print(\"Soy\", self.tipo, \"de color\", self.color, \"y mi cilindrada es de\", self.cilindrada, \"litros\")\n",
    "\n",
    "ve1 = vehiculo(\"rojo\",\"moto\",5,0)\n",
    "\n",
    "ve1.Estado()\n",
    "ve1.Detalle()"
   ]
  },
  {
   "attachments": {},
   "cell_type": "markdown",
   "metadata": {},
   "source": [
    "5) Crear una clase que permita utilizar las funciones creadas en la práctica del módulo 7<br>\n",
    "Verificar Primo<br>\n",
    "Valor modal<br>\n",
    "Conversión grados<br>\n",
    "Factorial<br>"
   ]
  },
  {
   "cell_type": "code",
   "execution_count": null,
   "metadata": {},
   "outputs": [
    {
     "name": "stdout",
     "output_type": "stream",
     "text": [
      "True\n",
      "{'numero': 12, 'repeticiones': 4}\n",
      "323.15\n",
      "3628800\n"
     ]
    }
   ],
   "source": [
    "\n",
    "class funciones:\n",
    "    def __init__(self) -> None:\n",
    "        pass\n",
    "\n",
    "    def comprobar_primo(self, n):\n",
    "        if(n>1):\n",
    "            es_primo = True\n",
    "            for div in range(2, n):\n",
    "                if n % div == 0:\n",
    "                    es_primo = False\n",
    "                    break\n",
    "        return es_primo\n",
    "\n",
    "    def moda(self, lista):\n",
    "        repetidos={}\n",
    "        lista.sort()\n",
    "        for num in lista:\n",
    "            if(num not in repetidos):\n",
    "                repetidos[lista.count(num)]=num \n",
    "        lista.count(num)\n",
    "        repe= max(repetidos.keys())\n",
    "\n",
    "        numero = (repetidos.get(repe))\n",
    "\n",
    "        repetidos.clear()\n",
    "        repetidos[\"numero\"] = numero\n",
    "        repetidos[\"repeticiones\"] = repe#repeticiones \n",
    "\n",
    "        return(repetidos)\n",
    "\n",
    "    def convertir(self, grados, unidad, unidad_destino):\n",
    "        if (unidad == \"celsius\"):\n",
    "            if (unidad_destino == \"celsius\"):\n",
    "                unidad_destino = grados\n",
    "            elif (unidad_destino == \"farenheit\"):\n",
    "                unidad_destino = (grados * 9 / 5) + 32\n",
    "            elif (unidad_destino == \"kelvin\"):\n",
    "                unidad_destino = grados + 273.15\n",
    "            else:\n",
    "                print(\"Parámetro de Destino incorrecto\")\n",
    "        elif (unidad == \"farenheit\"):\n",
    "            if (unidad_destino == \"celsius\"):\n",
    "                unidad_destino = (grados - 32) * 5 / 9\n",
    "            elif (unidad_destino == \"farenheit\"):\n",
    "                unidad_destino = grados\n",
    "            elif (unidad_destino == \"kelvin\"):\n",
    "                unidad_destino = ((grados - 32) * 5 / 9) + 273.15\n",
    "            else:\n",
    "                print(\"Parámetro de Destino incorrecto\")\n",
    "        elif (unidad == \"kelvin\"):\n",
    "            if (unidad_destino == \"celsius\"):\n",
    "                unidad_destino = grados - 273.15\n",
    "                unidad_destino = ((grados - 273.15) * 9 / 5) + 32\n",
    "            elif (unidad_destino == \"kelvin\"):\n",
    "                unidad_destino = grados\n",
    "            else:\n",
    "                print(\"Parámetro de Destino incorrecto\")\n",
    "        else:\n",
    "            print(\"Parámetro de Origen incorrecto\")\n",
    "        return unidad_destino\n",
    "\n",
    "    def factorial(self, numero):\n",
    "        if(type(numero) != int):\n",
    "            return \"El numero debe ser un entero\"\n",
    "        if(numero < 0):\n",
    "            return \"El numero debe ser positivo\"\n",
    "        if (numero > 1):\n",
    "            numero = numero * self.factorial(numero - 1)\n",
    "        return numero\n",
    "\n",
    "\n",
    "\n",
    "\n",
    "    "
   ]
  },
  {
   "attachments": {},
   "cell_type": "markdown",
   "metadata": {},
   "source": [
    "6) Probar las funciones incorporadas en la clase del punto 5"
   ]
  },
  {
   "cell_type": "code",
   "execution_count": null,
   "metadata": {},
   "outputs": [],
   "source": [
    "\n",
    "f = funciones()\n",
    "\n",
    "print(f.comprobar_primo(7))\n",
    "lista =[12,12,12,12,3,3,3,3]\n",
    "print(f.moda(lista))\n",
    "print(f.convertir(50, 'celsius', 'kelvin'))\n",
    "print(f.factorial(10))"
   ]
  },
  {
   "attachments": {},
   "cell_type": "markdown",
   "metadata": {},
   "source": [
    "7) Es necesario que la clase creada en el punto 5 contenga una lista, sobre la cual se apliquen las funciones incorporadas"
   ]
  },
  {
   "cell_type": "code",
   "execution_count": null,
   "metadata": {},
   "outputs": [],
   "source": [
    "class funciones:\n",
    "    def __init__(self,lista_num):\n",
    "        self.lista_num = lista_num\n",
    "        pass\n",
    "\n",
    "    def comprobar_primo(self, n):\n",
    "        if(n>1):\n",
    "            es_primo = True\n",
    "            for div in range(2, n):\n",
    "                if n % div == 0:\n",
    "                    es_primo = False\n",
    "                    break\n",
    "        return es_primo\n",
    "\n",
    "    def moda(self, lista):\n",
    "        repetidos={}\n",
    "        lista.sort()\n",
    "        for num in lista:\n",
    "            if(num not in repetidos):\n",
    "                repetidos[lista.count(num)]=num \n",
    "        lista.count(num)\n",
    "        repe= max(repetidos.keys())\n",
    "\n",
    "        numero = (repetidos.get(repe))\n",
    "\n",
    "        repetidos.clear()\n",
    "        repetidos[\"numero\"] = numero\n",
    "        repetidos[\"repeticiones\"] = repe#repeticiones \n",
    "\n",
    "        return(repetidos)\n",
    "\n",
    "    def convertir(self, grados, unidad, unidad_destino):\n",
    "        if (unidad == \"celsius\"):\n",
    "            if (unidad_destino == \"celsius\"):\n",
    "                unidad_destino = grados\n",
    "            elif (unidad_destino == \"farenheit\"):\n",
    "                unidad_destino = (grados * 9 / 5) + 32\n",
    "            elif (unidad_destino == \"kelvin\"):\n",
    "                unidad_destino = grados + 273.15\n",
    "            else:\n",
    "                print(\"Parámetro de Destino incorrecto\")\n",
    "        elif (unidad == \"farenheit\"):\n",
    "            if (unidad_destino == \"celsius\"):\n",
    "                unidad_destino = (grados - 32) * 5 / 9\n",
    "            elif (unidad_destino == \"farenheit\"):\n",
    "                unidad_destino = grados\n",
    "            elif (unidad_destino == \"kelvin\"):\n",
    "                unidad_destino = ((grados - 32) * 5 / 9) + 273.15\n",
    "            else:\n",
    "                print(\"Parámetro de Destino incorrecto\")\n",
    "        elif (unidad == \"kelvin\"):\n",
    "            if (unidad_destino == \"celsius\"):\n",
    "                unidad_destino = grados - 273.15\n",
    "                unidad_destino = ((grados - 273.15) * 9 / 5) + 32\n",
    "            elif (unidad_destino == \"kelvin\"):\n",
    "                unidad_destino = grados\n",
    "            else:\n",
    "                print(\"Parámetro de Destino incorrecto\")\n",
    "        else:\n",
    "            print(\"Parámetro de Origen incorrecto\")\n",
    "        return unidad_destino\n",
    "\n",
    "    def factorial(self, numero):\n",
    "        if(type(numero) != int):\n",
    "            return \"El numero debe ser un entero\"\n",
    "        if(numero < 0):\n",
    "            return \"El numero debe ser positivo\"\n",
    "        if (numero > 1):\n",
    "            numero = numero * self.factorial(numero - 1)\n",
    "        return numero\n",
    "\n",
    "\n",
    "f = funciones([12,12,12,12,3,3,3,3])\n"
   ]
  },
  {
   "attachments": {},
   "cell_type": "markdown",
   "metadata": {},
   "source": [
    "8) Crear un archivo .py aparte y ubicar allí la clase generada en el punto anterior. Luego realizar la importación del módulo y probar alguna de sus funciones"
   ]
  },
  {
   "cell_type": "code",
   "execution_count": null,
   "metadata": {},
   "outputs": [
    {
     "name": "stdout",
     "output_type": "stream",
     "text": [
      "Parámetro de Origen incorrecto\n",
      "dsadsa\n",
      "3628800\n",
      "{'numero': 12, 'repeticiones': 4}\n"
     ]
    }
   ],
   "source": [
    "import Funciones as fun\n",
    "\n",
    "func = fun.funciones([12,12,12,12,3,3,3,3])\n",
    "print(func.convertir(123,\"sad\",\"dsadsa\"))\n",
    "print(func.factorial(10))\n",
    "print(func.moda(lista))"
   ]
  }
 ],
 "metadata": {
  "interpreter": {
   "hash": "c85384e4cb51c8b72350f3a8712cc8351fdc3955e32a27f9b60c6242ab125f01"
  },
  "kernelspec": {
   "display_name": "Python 3 (ipykernel)",
   "language": "python",
   "name": "python3"
  },
  "language_info": {
   "codemirror_mode": {
    "name": "ipython",
    "version": 3
   },
   "file_extension": ".py",
   "mimetype": "text/x-python",
   "name": "python",
   "nbconvert_exporter": "python",
   "pygments_lexer": "ipython3",
   "version": "3.11.4"
  }
 },
 "nbformat": 4,
 "nbformat_minor": 4
}
