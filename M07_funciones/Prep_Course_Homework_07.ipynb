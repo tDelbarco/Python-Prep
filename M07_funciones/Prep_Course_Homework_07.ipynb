{
 "cells": [
  {
   "attachments": {},
   "cell_type": "markdown",
   "metadata": {},
   "source": [
    "## Funciones\n"
   ]
  },
  {
   "attachments": {},
   "cell_type": "markdown",
   "metadata": {},
   "source": [
    "1. Crear una función que reciba un número como parámetro y devuelva True si es primo y False si no lo es\n"
   ]
  },
  {
   "cell_type": "code",
   "execution_count": 1,
   "metadata": {},
   "outputs": [
    {
     "name": "stdout",
     "output_type": "stream",
     "text": [
      "True\n"
     ]
    }
   ],
   "source": [
    "def comprobar(n):\n",
    "    if(n>1):\n",
    "        es_primo = True\n",
    "        for div in range(2, n):\n",
    "            if n % div == 0:\n",
    "                es_primo = False\n",
    "                break\n",
    "        return es_primo\n",
    "print(comprobar(7))"
   ]
  },
  {
   "attachments": {},
   "cell_type": "markdown",
   "metadata": {},
   "source": [
    "2. Utilizando la función del punto 1, realizar otra función que reciba de parámetro una lista de números y devuelva sólo aquellos que son primos en otra lista\n"
   ]
  },
  {
   "cell_type": "code",
   "execution_count": 2,
   "metadata": {},
   "outputs": [
    {
     "name": "stdout",
     "output_type": "stream",
     "text": [
      "[2, 3, 5, 7, 11, 13, 17, 19, 23, 29]\n"
     ]
    }
   ],
   "source": [
    "lista=[1,2,3,4,5,6,7,8,9,10,11,12,13,14,15,16,17,18,19,20,21,22,23,24,25,26,27,28,29,30]\n",
    "lista2=[]\n",
    "\n",
    "def separar_primos(lista,lista2):\n",
    "        for num in lista:\n",
    "                if(comprobar(num)):\n",
    "                    lista2.append(num)\n",
    "separar_primos(lista,lista2)\n",
    "print(lista2)"
   ]
  },
  {
   "attachments": {},
   "cell_type": "markdown",
   "metadata": {},
   "source": [
    "3. Crear una función que al recibir una lista de números, devuelva el que más se repite y cuántas veces lo hace. Si hay más de un \"más repetido\", que devuelva cualquiera\n"
   ]
  },
  {
   "cell_type": "code",
   "execution_count": 3,
   "metadata": {},
   "outputs": [
    {
     "name": "stdout",
     "output_type": "stream",
     "text": [
      "el valor que mas se repite es -12 y se repite 4\n"
     ]
    }
   ],
   "source": [
    "lista =[1,-12,-12,-12,-12,12,1,12,3,4,4,6,7,5,5,5,8,9]\n",
    "\n",
    "def moda(lista):\n",
    "    repetidos={}\n",
    "    lista.sort()#probe la funcion con varios valores y para evitar errores hay que acomodar la lista\n",
    "    for num in lista:\n",
    "        if(num not in repetidos):\n",
    "            repetidos[lista.count(num)]=num \n",
    "            #establesco cada key de la llave como la cantidad que se repite un numero\n",
    "            #en caso de haber 2 numeros que se repiten una misma cantidad de veces solo se obtendra 1(el ultimo) ya que\n",
    "            #el diccionario solo permite keys unicas\n",
    "    lista.count(num)\n",
    "    #print(repetidos) # debemos leer como repeticiones:numero\n",
    "    repe= max(repetidos.keys())#este es la cantidad que mas se repite\n",
    "\n",
    "    numero = (repetidos.get(repe))# este es el numero que se repite esas veces\n",
    "\n",
    "    repetidos.clear()#vaciamos la lista de repetidos ya que solo era una lista temporal para guardar las repeticiones\n",
    "    repetidos[\"numero\"] = numero#numero que mas se repite\n",
    "    repetidos[\"repeticiones\"] = repe#repeticiones \n",
    "    #print(repetidos)#esto es lo que se va a retornar\n",
    "\n",
    "    return(repetidos)\n",
    "\n",
    "\n",
    "moda_lista = moda(lista)#\n",
    "\n",
    "print(\"el valor que mas se repite es\",moda_lista.get(\"numero\"),\"y se repite\",moda_lista.get(\"repeticiones\"))"
   ]
  },
  {
   "attachments": {},
   "cell_type": "markdown",
   "metadata": {},
   "source": [
    "4. A la función del punto 3, agregar un parámetro más, que permita elegir si se requiere el menor o el mayor de los mas repetidos.\n"
   ]
  },
  {
   "cell_type": "code",
   "execution_count": 4,
   "metadata": {},
   "outputs": [
    {
     "name": "stdout",
     "output_type": "stream",
     "text": [
      "el valor que mas se repite es 1 y se repite 5\n"
     ]
    }
   ],
   "source": [
    "lista =[12,1,1,12,12,12,1,1,12,1]#la asigne a una variable aca para pasar la variable ala invocacion\n",
    "lista.sort()\n",
    "\n",
    "def moda(l,booleano):\n",
    "    repetidos={}#diccionario para operar\n",
    "    l = l.sort(reverse=booleano)\n",
    "\n",
    "    for num in lista:\n",
    "        if(num not in repetidos):\n",
    "            repetidos[lista.count(num)]=num \n",
    "            #establesco cada key de la llave como la cantidad que se repite un numero\n",
    "            #en caso de haber 2 numeros que se repiten una misma cantidad de veces solo se obtendra 1(el ultimo) ya que\n",
    "            #el diccionario solo permite keys unicas\n",
    "    lista.count(num)\n",
    "    #print(repetidos) # debemos leer como repeticiones:numero\n",
    "    repe= max(repetidos.keys())#este es la cantidad que mas se repite\n",
    "\n",
    "    numero = (repetidos.get(repe))# este es el numero que se repite esas veces\n",
    "\n",
    "    repetidos.clear()#vaciamos la lista de repetidos ya que solo era una lista temporal para guardar las repeticiones\n",
    "    repetidos[\"numero\"] = numero#numero que mas se repite\n",
    "    repetidos[\"repeticiones\"] = repe#repeticiones \n",
    "    #print(repetidos)#esto es lo que se va a retornar\n",
    "\n",
    "    return(repetidos)\n",
    "\n",
    "\n",
    "moda_lista = moda(lista,True)# False = mayor | True menor\n",
    "\n",
    "print(\"el valor que mas se repite es\",moda_lista.get(\"numero\"),\"y se repite\",moda_lista.get(\"repeticiones\"))"
   ]
  },
  {
   "attachments": {},
   "cell_type": "markdown",
   "metadata": {},
   "source": [
    "5. Crear una función que convierta entre grados Celsius, Farenheit y Kelvin<br>\n",
    "   Fórmula 1 : (°C × 9/5) + 32 = °F<br>\n",
    "   Fórmula 2 : °C + 273.15 = °K<br>\n",
    "   Debe recibir 3 parámetros: el valor, la medida de orígen y la medida de destino\n"
   ]
  },
  {
   "cell_type": "code",
   "execution_count": 5,
   "metadata": {},
   "outputs": [
    {
     "name": "stdout",
     "output_type": "stream",
     "text": [
      "1 grado Celsius a Celsius: 1\n",
      "1 grado Celsius a Kelvin: 274.15\n",
      "1 grado Celsius a Farenheit: 33.8\n",
      "1 grado Kelvin a Celsius: -272.15\n",
      "1 grado Kelvin a Kelvin: 1\n",
      "1 grado Kelvin a Farenheit: -457.87\n",
      "1 grado Farenheit a Celsius: -17.22222222222222\n",
      "1 grado Farenheit a Kelvin: 255.92777777777775\n",
      "1 grado Farenheit a Farenheit: 1\n"
     ]
    }
   ],
   "source": [
    "def convertir_grados(grados, unidad, unidad_destino):\n",
    "    if (unidad == \"celsius\"):\n",
    "        if (unidad_destino == \"celsius\"):\n",
    "            valor_destino = grados\n",
    "        elif (unidad_destino == \"farenheit\"):\n",
    "            valor_destino = (grados * 9 / 5) + 32\n",
    "        elif (unidad_destino == \"kelvin\"):\n",
    "            valor_destino = grados + 273.15\n",
    "        else:\n",
    "            print(\"Parámetro de Destino incorrecto\")\n",
    "    elif (unidad == \"farenheit\"):\n",
    "        if (unidad_destino == \"celsius\"):\n",
    "            valor_destino = (grados - 32) * 5 / 9\n",
    "        elif (unidad_destino == \"farenheit\"):\n",
    "            valor_destino = grados\n",
    "        elif (unidad_destino == \"kelvin\"):\n",
    "            valor_destino = ((grados - 32) * 5 / 9) + 273.15\n",
    "        else:\n",
    "            print(\"Parámetro de Destino incorrecto\")\n",
    "    elif (unidad == \"kelvin\"):\n",
    "        if (unidad_destino == \"celsius\"):\n",
    "            valor_destino = grados - 273.15\n",
    "        elif (unidad_destino == \"farenheit\"):\n",
    "            valor_destino = ((grados - 273.15) * 9 / 5) + 32\n",
    "        elif (unidad_destino == \"kelvin\"):\n",
    "            valor_destino = grados\n",
    "        else:\n",
    "            print(\"Parámetro de Destino incorrecto\")\n",
    "    else:\n",
    "        print(\"Parámetro de Origen incorrecto\")\n",
    "    return valor_destino\n",
    "\n",
    "print(\"1 grado Celsius a Celsius:\", convertir_grados(1, \"celsius\", \"celsius\"))\n",
    "print(\"1 grado Celsius a Kelvin:\", convertir_grados(1, \"celsius\", \"kelvin\"))\n",
    "print(\"1 grado Celsius a Farenheit:\", convertir_grados(1, \"celsius\", \"farenheit\"))\n",
    "print(\"1 grado Kelvin a Celsius:\", convertir_grados(1, \"kelvin\", \"celsius\"))\n",
    "print(\"1 grado Kelvin a Kelvin:\", convertir_grados(1, \"kelvin\", \"kelvin\"))\n",
    "print(\"1 grado Kelvin a Farenheit:\", convertir_grados(1, \"kelvin\", \"farenheit\"))\n",
    "print(\"1 grado Farenheit a Celsius:\", convertir_grados(1, \"farenheit\", \"celsius\"))\n",
    "print(\"1 grado Farenheit a Kelvin:\", convertir_grados(1, \"farenheit\", \"kelvin\"))\n",
    "print(\"1 grado Farenheit a Farenheit:\", convertir_grados(1, \"farenheit\", \"farenheit\"))"
   ]
  },
  {
   "attachments": {},
   "cell_type": "markdown",
   "metadata": {},
   "source": [
    "6. Iterando una lista con los tres valores posibles de temperatura que recibe la función del punto 5, hacer un print para cada combinación de los mismos:\n"
   ]
  },
  {
   "cell_type": "code",
   "execution_count": 6,
   "metadata": {},
   "outputs": [
    {
     "name": "stdout",
     "output_type": "stream",
     "text": [
      "Celsius Celsius\n",
      "Celsius Farenheit\n",
      "Celsius Kelvin\n",
      "Farenheit Celsius\n",
      "Farenheit Farenheit\n",
      "Farenheit Kelvin\n",
      "Kelvin Celsius\n",
      "Kelvin Farenheit\n",
      "Kelvin Kelvin\n"
     ]
    }
   ],
   "source": [
    "lista = [\"Celsius\", \"Farenheit\" ,\"Kelvin\"]\n",
    "for i in range(0,len(lista)):\n",
    "    for j in range(0,len(lista)):\n",
    "        print(lista[i],lista[j])"
   ]
  },
  {
   "attachments": {},
   "cell_type": "markdown",
   "metadata": {},
   "source": [
    "7. Armar una función que devuelva el factorial de un número. Tener en cuenta que el usuario puede equivocarse y enviar de parámetro un número no entero o negativo\n"
   ]
  },
  {
   "cell_type": "code",
   "execution_count": 7,
   "metadata": {},
   "outputs": [
    {
     "name": "stdout",
     "output_type": "stream",
     "text": [
      "1\n",
      "El numero debe ser positivo\n",
      "El numero debe ser un entero\n",
      "3628800\n"
     ]
    }
   ],
   "source": [
    "def factorial(numero):\n",
    "    if(type(numero) != int):\n",
    "        return \"El numero debe ser un entero\"\n",
    "    if(numero < 0):\n",
    "        return \"El numero debe ser positivo\"\n",
    "    if (numero > 1):\n",
    "        numero = numero * factorial(numero - 1)\n",
    "    return numero\n",
    "\n",
    "print(factorial(1))\n",
    "print(factorial(-1))\n",
    "print(factorial(1.4))\n",
    "print(factorial(10))"
   ]
  }
 ],
 "metadata": {
  "interpreter": {
   "hash": "c85384e4cb51c8b72350f3a8712cc8351fdc3955e32a27f9b60c6242ab125f01"
  },
  "kernelspec": {
   "display_name": "Python 3 (ipykernel)",
   "language": "python",
   "name": "python3"
  },
  "language_info": {
   "codemirror_mode": {
    "name": "ipython",
    "version": 3
   },
   "file_extension": ".py",
   "mimetype": "text/x-python",
   "name": "python",
   "nbconvert_exporter": "python",
   "pygments_lexer": "ipython3",
   "version": "3.11.4"
  }
 },
 "nbformat": 4,
 "nbformat_minor": 4
}
