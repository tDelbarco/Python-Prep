{
 "cells": [
  {
   "attachments": {},
   "cell_type": "markdown",
   "metadata": {},
   "source": [
    "## Manejo de errores"
   ]
  },
  {
   "attachments": {},
   "cell_type": "markdown",
   "metadata": {},
   "source": [
    "1) Con la clase creada en el módulo 7, tener en cuenta diferentes casos en que el código pudiera arrojar error. Por ejemplo, en la creación del objeto recibimos una lista de números enteros pero ¿qué pasa si se envía otro tipo de dato?"
   ]
  },
  {
   "cell_type": "code",
   "execution_count": 4,
   "metadata": {},
   "outputs": [],
   "source": [
    "import sys \n",
    "sys.path.append(\"M08_clasesyOOP\")#no logro entender el porque no me anda probe de muchas maneras\n",
    "sys.path.append(\"../M08_clasesyOOP/funciones\")#termine trayendo el archivo a la carpeta como el herramientas.py"
   ]
  },
  {
   "cell_type": "code",
   "execution_count": 5,
   "metadata": {},
   "outputs": [
    {
     "data": {
      "text/plain": [
       "<funciones.funciones at 0x1b7533fe650>"
      ]
     },
     "execution_count": 5,
     "metadata": {},
     "output_type": "execute_result"
    }
   ],
   "source": [
    "import funciones as func\n",
    "\n",
    "func.funciones([12,123,4,1,2,12,45,2,1])\n"
   ]
  },
  {
   "attachments": {},
   "cell_type": "markdown",
   "metadata": {},
   "source": [
    "2) En la función que hace la conversión de grados, validar que los parámetros enviados sean los esperados, de no serlo, informar cuáles son los valores esperados."
   ]
  },
  {
   "cell_type": "code",
   "execution_count": 6,
   "metadata": {},
   "outputs": [
    {
     "name": "stdout",
     "output_type": "stream",
     "text": [
      "funciones.convertir() missing 2 required positional arguments: 'unidad' and 'unidad_destino'\n"
     ]
    }
   ],
   "source": [
    "try:\n",
    "    func.funciones.convertir(300,\"safas\")\n",
    "except Exception as e:\n",
    "    print(e)"
   ]
  },
  {
   "attachments": {},
   "cell_type": "markdown",
   "metadata": {},
   "source": [
    "3) Importar el modulo \"unittest\" y crear los siguientes casos de pruebas sobre la clase utilizada en el punto 2<br>\n",
    "Creacion del objeto incorrecta<br>\n",
    "Creacion correcta del objeto<br>\n",
    "Metodo valor_modal()<br>\n",
    "\n",
    "Se puede usar \"raise ValueError()\" en la creación de la clase para verificar el error. Investigar sobre esta funcionalidad."
   ]
  },
  {
   "cell_type": "code",
   "execution_count": 7,
   "metadata": {},
   "outputs": [
    {
     "name": "stderr",
     "output_type": "stream",
     "text": [
      "test_crear_objeto (__main__.Test.test_crear_objeto) ... ok\n",
      "test_crear_objeto2 (__main__.Test.test_crear_objeto2) ... ok\n",
      "test_valor_modal (__main__.Test.test_valor_modal) ... ok\n",
      "test_factorial (__main__.TestFactorial.test_factorial) ... ok\n",
      "\n",
      "----------------------------------------------------------------------\n",
      "Ran 4 tests in 0.007s\n",
      "\n",
      "OK\n"
     ]
    },
    {
     "data": {
      "text/plain": [
       "<unittest.main.TestProgram at 0x1b75340f850>"
      ]
     },
     "execution_count": 7,
     "metadata": {},
     "output_type": "execute_result"
    }
   ],
   "source": [
    "import unittest\n",
    "\n",
    "class Test(unittest.TestCase):\n",
    "    \n",
    "    def test_crear_objeto(self):#crear objeto incorrecto\n",
    "        from funciones import funciones as fun\n",
    "        param = 'hola'\n",
    "        self.assertRaises(ValueError, fun, param)\n",
    "\n",
    "    def test_crear_objeto2(self):#crear objeto correcto\n",
    "        from funciones import funciones as fun\n",
    "        param = [1,2,2,5]\n",
    "        func = fun(param)\n",
    "        self.assertEqual(func.lista, param)\n",
    "\n",
    "    def test_valor_modal(self):#valor modal\n",
    "        from funciones import funciones as fun\n",
    "        lis = [1,2,1,3]\n",
    "        func = fun(lis)\n",
    "        moda = list(func.moda())\n",
    "        resultado_esperado = [1,2]\n",
    "        self.assertEqual(moda, resultado_esperado)\n",
    "\n",
    "unittest.main(argv=[\"\"],verbosity=2,exit=False)"
   ]
  },
  {
   "attachments": {},
   "cell_type": "markdown",
   "metadata": {},
   "source": [
    "4) Probar una creación incorrecta y visualizar la salida del \"raise\""
   ]
  },
  {
   "cell_type": "code",
   "execution_count": 8,
   "metadata": {},
   "outputs": [],
   "source": [
    "from funciones import funciones as fun\n",
    "#fun(\"safas\")\n",
    "#devuelve el error ValueError: se ha creado una lista vacia. se esperaba una  lista de números enteros que se encuentra en el raise"
   ]
  },
  {
   "attachments": {},
   "cell_type": "markdown",
   "metadata": {},
   "source": [
    "6) Agregar casos de pruebas para el método verifica_primos() realizando el cambio en la clase, para que devuelva una lista de True o False en función de que el elemento en la posisicón sea o no primo"
   ]
  },
  {
   "cell_type": "code",
   "execution_count": 9,
   "metadata": {},
   "outputs": [
    {
     "name": "stderr",
     "output_type": "stream",
     "text": [
      "test_crear_objeto (__main__.Test.test_crear_objeto) ... ok\n",
      "test_crear_objeto2 (__main__.Test.test_crear_objeto2) ... ok\n",
      "test_valor_modal (__main__.Test.test_valor_modal) ... ok\n",
      "test_factorial (__main__.TestFactorial.test_factorial) ... ok\n",
      "test_verifica_primos1 (__main__.TestPrimos.test_verifica_primos1) ... ok\n",
      "test_verifica_primos2 (__main__.TestPrimos.test_verifica_primos2) ... ok\n",
      "test_verifica_primos3 (__main__.TestPrimos.test_verifica_primos3) ... ok\n",
      "\n",
      "----------------------------------------------------------------------\n",
      "Ran 7 tests in 0.012s\n",
      "\n",
      "OK\n"
     ]
    },
    {
     "data": {
      "text/plain": [
       "<unittest.main.TestProgram at 0x1b7533fe910>"
      ]
     },
     "execution_count": 9,
     "metadata": {},
     "output_type": "execute_result"
    }
   ],
   "source": [
    "from funciones import funciones as fun\n",
    "import unittest\n",
    "\n",
    "class TestPrimos(unittest.TestCase):\n",
    "    def test_verifica_primos1(self):\n",
    "        num = 1\n",
    "        \n",
    "        num = fun.comprobar_primo(fun, num)\n",
    "        \n",
    "        primos_esperado = False\n",
    "        self.assertEqual(num, primos_esperado)\n",
    "\n",
    "    def test_verifica_primos2(self):\n",
    "        num = 3\n",
    "        \n",
    "        num = fun.comprobar_primo(fun, num)\n",
    "        \n",
    "        primos_esperado = True\n",
    "        self.assertEqual(num, primos_esperado)\n",
    "\n",
    "    def test_verifica_primos3(self):\n",
    "        num = 7\n",
    "        \n",
    "        num = fun.comprobar_primo(fun, num)\n",
    "        \n",
    "        primos_esperado = True\n",
    "        self.assertEqual(num, primos_esperado)\n",
    "\n",
    "\n",
    "#corriendo test\n",
    "unittest.main(argv=[''], verbosity=2, exit=False)"
   ]
  },
  {
   "attachments": {},
   "cell_type": "markdown",
   "metadata": {},
   "source": [
    "7) Agregar casos de pruebas para el método conversion_grados()"
   ]
  },
  {
   "cell_type": "code",
   "execution_count": 10,
   "metadata": {},
   "outputs": [
    {
     "name": "stderr",
     "output_type": "stream",
     "text": [
      "test_crear_objeto (__main__.Test.test_crear_objeto) ... ok\n",
      "test_crear_objeto2 (__main__.Test.test_crear_objeto2) ... ok\n",
      "test_valor_modal (__main__.Test.test_valor_modal) ... ok\n",
      "test_factorial (__main__.TestFactorial.test_factorial) ... ok\n",
      "test_grados1 (__main__.TestGrados.test_grados1) ... ok\n",
      "test_grados2 (__main__.TestGrados.test_grados2) ... ok\n",
      "test_verifica_primos1 (__main__.TestPrimos.test_verifica_primos1) ... ok\n",
      "test_verifica_primos2 (__main__.TestPrimos.test_verifica_primos2) ... ok\n",
      "test_verifica_primos3 (__main__.TestPrimos.test_verifica_primos3) ... ok\n",
      "\n",
      "----------------------------------------------------------------------\n",
      "Ran 9 tests in 0.015s\n",
      "\n",
      "OK\n"
     ]
    },
    {
     "data": {
      "text/plain": [
       "<unittest.main.TestProgram at 0x1b753409a50>"
      ]
     },
     "execution_count": 10,
     "metadata": {},
     "output_type": "execute_result"
    }
   ],
   "source": [
    "from funciones import funciones as fun\n",
    "import unittest\n",
    "\n",
    "class TestGrados(unittest.TestCase):\n",
    "    def test_grados1(self):\n",
    "        valor_esperado = 1\n",
    "        respuesta = fun.convertir(self,1,\"farenheit\",\"farenheit\")\n",
    "        self.assertEqual(respuesta,valor_esperado)\n",
    "\n",
    "    def test_grados2(self):\n",
    "        valor_esperado = 1\n",
    "        respuesta = fun.convertir(self,1,\"kelvin\",\"kelvin\")\n",
    "        self.assertEqual(respuesta,valor_esperado)       \n",
    "\n",
    "unittest.main(argv=[''], verbosity=2, exit=False)"
   ]
  },
  {
   "attachments": {},
   "cell_type": "markdown",
   "metadata": {},
   "source": [
    "8) Agregar casos de pruebas para el método factorial()"
   ]
  },
  {
   "cell_type": "code",
   "execution_count": 11,
   "metadata": {},
   "outputs": [
    {
     "name": "stderr",
     "output_type": "stream",
     "text": [
      "test_crear_objeto (__main__.Test.test_crear_objeto) ... ok\n",
      "test_crear_objeto2 (__main__.Test.test_crear_objeto2) ... ok\n",
      "test_valor_modal (__main__.Test.test_valor_modal) ... ok\n",
      "test_factorial (__main__.TestFactorial.test_factorial) ... ok\n",
      "test_grados1 (__main__.TestGrados.test_grados1) ... ok\n",
      "test_grados2 (__main__.TestGrados.test_grados2) ... ok\n",
      "test_verifica_primos1 (__main__.TestPrimos.test_verifica_primos1) ... ok\n",
      "test_verifica_primos2 (__main__.TestPrimos.test_verifica_primos2) ... ok\n",
      "test_verifica_primos3 (__main__.TestPrimos.test_verifica_primos3) ... ok\n",
      "\n",
      "----------------------------------------------------------------------\n",
      "Ran 9 tests in 0.015s\n",
      "\n",
      "OK\n"
     ]
    },
    {
     "data": {
      "text/plain": [
       "<unittest.main.TestProgram at 0x1b75340c850>"
      ]
     },
     "execution_count": 11,
     "metadata": {},
     "output_type": "execute_result"
    }
   ],
   "source": [
    "import unittest\n",
    "import Factorial as f #cree un nuevo modulo para la funcion factorial por que me complique mucho y necesite hacerlo de nuevo pero no queria afectar otros homework anteriores \n",
    "\n",
    "class TestFactorial(unittest.TestCase):\n",
    "    def test_factorial(self):\n",
    "        lista = [1,2,3,4,5,6,7]\n",
    "        resultado = f.Factoriales(lista)\n",
    "        resultado_esperado = [1,2,6,24,120,720,5040]\n",
    "        self.assertEqual(resultado_esperado, resultado)\n",
    "\n",
    "    def test_factorial(self):\n",
    "        import funciones as fun\n",
    "        numero = 10\n",
    "        resultado = f.factorial(numero)\n",
    "\n",
    "        resultado_esperado = 3628800\n",
    "        self.assertEqual(resultado_esperado, resultado)\n",
    "\n",
    "unittest.main(argv=[''], verbosity=2, exit=False)\n"
   ]
  }
 ],
 "metadata": {
  "interpreter": {
   "hash": "c85384e4cb51c8b72350f3a8712cc8351fdc3955e32a27f9b60c6242ab125f01"
  },
  "kernelspec": {
   "display_name": "Python 3 (ipykernel)",
   "language": "python",
   "name": "python3"
  },
  "language_info": {
   "codemirror_mode": {
    "name": "ipython",
    "version": 3
   },
   "file_extension": ".py",
   "mimetype": "text/x-python",
   "name": "python",
   "nbconvert_exporter": "python",
   "pygments_lexer": "ipython3",
   "version": "3.11.4"
  }
 },
 "nbformat": 4,
 "nbformat_minor": 4
}
