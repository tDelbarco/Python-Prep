{
 "cells": [
  {
   "attachments": {},
   "cell_type": "markdown",
   "metadata": {},
   "source": [
    "## Flujos de Control"
   ]
  },
  {
   "attachments": {},
   "cell_type": "markdown",
   "metadata": {},
   "source": [
    "1) Crear una variable que contenga un elemento del conjunto de números enteros y luego imprimir por pantalla si es mayor o menor a cero"
   ]
  },
  {
   "cell_type": "code",
   "execution_count": 1,
   "metadata": {},
   "outputs": [
    {
     "name": "stdout",
     "output_type": "stream",
     "text": [
      "7 es mayor a 0\n"
     ]
    }
   ],
   "source": [
    "numero = 7\n",
    "\n",
    "if numero > 0:\n",
    "    print(numero,\"es mayor a 0\")\n",
    "else:\n",
    "    print(numero,\"es menor que 0\")"
   ]
  },
  {
   "attachments": {},
   "cell_type": "markdown",
   "metadata": {},
   "source": [
    "2) Crear dos variables y un condicional que informe si son del mismo tipo de dato"
   ]
  },
  {
   "cell_type": "code",
   "execution_count": 2,
   "metadata": {},
   "outputs": [
    {
     "name": "stdout",
     "output_type": "stream",
     "text": [
      "de el mismo tipo de dato \n"
     ]
    }
   ],
   "source": [
    "variable1= \"43.6\"\n",
    "variable2= \"asdahsf\"\n",
    "\n",
    "if type(variable1) == type(variable2):\n",
    "    print(\"de el mismo tipo de dato \")\n",
    "else:\n",
    "    print(\"son de diferente tipo de dato\")"
   ]
  },
  {
   "attachments": {},
   "cell_type": "markdown",
   "metadata": {},
   "source": [
    "3) Para los valores enteros del 1 al 20, imprimir por pantalla si es par o impar"
   ]
  },
  {
   "cell_type": "code",
   "execution_count": 3,
   "metadata": {},
   "outputs": [
    {
     "name": "stdout",
     "output_type": "stream",
     "text": [
      "2\n",
      "4\n",
      "6\n",
      "8\n",
      "10\n",
      "12\n",
      "14\n",
      "16\n",
      "18\n",
      "20\n"
     ]
    }
   ],
   "source": [
    "\n",
    "for i in range(1,21):#puse que tome el rango de el 1 al 21 por que no toma el 20\n",
    "    if(i%2==0):\n",
    "        print(i)\n",
    "    else:\n",
    "        continue#inpar\n"
   ]
  },
  {
   "attachments": {},
   "cell_type": "markdown",
   "metadata": {},
   "source": [
    "4) En un ciclo for mostrar para los valores entre 0 y 5 el resultado de elevarlo a la potencia igual a 3"
   ]
  },
  {
   "cell_type": "code",
   "execution_count": 4,
   "metadata": {},
   "outputs": [
    {
     "name": "stdout",
     "output_type": "stream",
     "text": [
      "0\n",
      "1\n",
      "8\n",
      "27\n",
      "64\n",
      "125\n"
     ]
    }
   ],
   "source": [
    "for i in range(0,6):\n",
    "    print(i**3)"
   ]
  },
  {
   "attachments": {},
   "cell_type": "markdown",
   "metadata": {},
   "source": [
    "5) Crear una variable que contenga un número entero y realizar un ciclo for la misma cantidad de ciclos"
   ]
  },
  {
   "cell_type": "code",
   "execution_count": 5,
   "metadata": {},
   "outputs": [
    {
     "name": "stdout",
     "output_type": "stream",
     "text": [
      "1\n",
      "2\n",
      "3\n",
      "4\n",
      "5\n",
      "6\n",
      "7\n"
     ]
    }
   ],
   "source": [
    "numero = 7\n",
    "for i in range(0,numero):\n",
    "    print(i+1)"
   ]
  },
  {
   "attachments": {},
   "cell_type": "markdown",
   "metadata": {},
   "source": [
    "6) Utilizar un ciclo while para realizar el factorial de un número guardado en una variable, sólo si la variable contiene un número entero mayor a 0"
   ]
  },
  {
   "cell_type": "code",
   "execution_count": 6,
   "metadata": {},
   "outputs": [
    {
     "name": "stdout",
     "output_type": "stream",
     "text": [
      "el factorial es 24\n"
     ]
    }
   ],
   "source": [
    "num = 4\n",
    "if (type(num)== int):\n",
    "    if (num > 0):\n",
    "        factorial = num\n",
    "        while(num > 2):\n",
    "            num = num -1\n",
    "            factorial = factorial * num\n",
    "        print(\"el factorial es\",factorial)\n",
    "    else:\n",
    "        (\"el numero no es mayor a 0\")\n",
    "else:\n",
    "    print(\"el numero no es entero\")"
   ]
  },
  {
   "attachments": {},
   "cell_type": "markdown",
   "metadata": {},
   "source": [
    "7) Crear un ciclo for dentro de un ciclo while"
   ]
  },
  {
   "cell_type": "code",
   "execution_count": 7,
   "metadata": {},
   "outputs": [
    {
     "name": "stdout",
     "output_type": "stream",
     "text": [
      "9\n",
      "8\n",
      "7\n",
      "6\n",
      "5\n",
      "4\n",
      "3\n",
      "2\n",
      "1\n",
      "0\n"
     ]
    }
   ],
   "source": [
    "num = 10\n",
    "while num > 0:\n",
    "    for i in range(0,num):\n",
    "        num-=1\n",
    "        print(num)\n",
    "    "
   ]
  },
  {
   "attachments": {},
   "cell_type": "markdown",
   "metadata": {},
   "source": [
    "8) Crear un ciclo while dentro de un ciclo for"
   ]
  },
  {
   "cell_type": "code",
   "execution_count": 8,
   "metadata": {},
   "outputs": [
    {
     "name": "stdout",
     "output_type": "stream",
     "text": [
      "5\n",
      "6\n",
      "7\n",
      "8\n",
      "9\n"
     ]
    }
   ],
   "source": [
    "for i in range(10): #se itera 10 veces pero solo se imprime cuando i es mayor o igual que 5\n",
    "    while i >= 5:\n",
    "        print(i)\n",
    "        break\n",
    "    "
   ]
  },
  {
   "attachments": {},
   "cell_type": "markdown",
   "metadata": {},
   "source": [
    "9) Imprimir los números primos existentes entre 0 y 30"
   ]
  },
  {
   "cell_type": "code",
   "execution_count": 9,
   "metadata": {},
   "outputs": [
    {
     "name": "stdout",
     "output_type": "stream",
     "text": [
      "2\n",
      "3\n",
      "5\n",
      "7\n",
      "11\n",
      "13\n",
      "17\n",
      "19\n",
      "23\n",
      "29\n"
     ]
    }
   ],
   "source": [
    "#este fue el mejor intento(logre que me diga los numeros no primos)\n",
    "\n",
    "#for numero in range(0,31):\n",
    "#    if(numero<2):\n",
    "#        print(numero,\"no es primo\")\n",
    "#    for cociente in range(2,numero):\n",
    "#        #print(numero,\"%\",cociente) # esto muestra la operacion que se hace para comprobar si es divisible por otro numero que no sea el mismo ni 1\n",
    "#\n",
    "#        if(numero%cociente == 0):#si modulo da 0 significa que no es primo ya que solo se opera con numeros distintos a el y 1\n",
    "#            print(numero,\"no es primo\")\n",
    "#            break\n",
    "cont = 0\n",
    "\n",
    "for num in range(0,31):\n",
    "    if(num > 1):\n",
    "        cont=0\n",
    "        for i in range(2,num):\n",
    "            resto= num%i\n",
    "            #print(num,\"%\",i,\"=\",resto)\n",
    "            if(resto == 0):\n",
    "                cont+=1\n",
    "        if(cont == 0):\n",
    "            print(num)#numero primo\n",
    "    #    else:\n",
    "    #        print(num,\"no es numero primo\")\n",
    "    #else:\n",
    "    #    print(num,\"el numero no es primo\")\n",
    "\n",
    "\n"
   ]
  },
  {
   "attachments": {},
   "cell_type": "markdown",
   "metadata": {},
   "source": [
    "10) ¿Se puede mejorar el proceso del punto 9? Utilizar las sentencias break y/ó continue para tal fin"
   ]
  },
  {
   "cell_type": "code",
   "execution_count": 10,
   "metadata": {},
   "outputs": [
    {
     "name": "stdout",
     "output_type": "stream",
     "text": [
      "2\n",
      "3\n",
      "5\n",
      "7\n",
      "11\n",
      "13\n",
      "17\n",
      "19\n",
      "23\n",
      "29\n"
     ]
    }
   ],
   "source": [
    "cont = 0\n",
    "\n",
    "for num in range(0,31):\n",
    "    if(num > 1):\n",
    "        cont=0\n",
    "        for i in range(2,num):\n",
    "            resto= num%i\n",
    "            if(resto == 0):\n",
    "                cont+=1\n",
    "                break #parece igual pero cuando confirme que el numero deja de ser primo pasa a la siguiente iteracion\n",
    "        if(cont == 0):\n",
    "            print(num)#numero primo"
   ]
  },
  {
   "attachments": {},
   "cell_type": "markdown",
   "metadata": {},
   "source": [
    "11) En los puntos 9 y 10, se diseño un código que encuentra números primos y además se lo optimizó. ¿Es posible saber en qué medida se optimizó?"
   ]
  },
  {
   "cell_type": "code",
   "execution_count": 11,
   "metadata": {},
   "outputs": [
    {
     "name": "stdout",
     "output_type": "stream",
     "text": [
      "sin break se repitio  406\n",
      "con break se repitio 135\n",
      "con break se repite hasta 1/4 parte de lo que que se repite sin break\n"
     ]
    }
   ],
   "source": [
    "cont = 0\n",
    "##sin break\n",
    "repeticiones = 0\n",
    "for num in range(0,31):\n",
    "    if(num > 1):\n",
    "        cont=0\n",
    "        for i in range(2,num):\n",
    "            repeticiones+=1\n",
    "            resto= num%i\n",
    "            if(resto == 0):\n",
    "                cont+=1\n",
    "        #if(cont == 0): #muestra los numeros primos no afecta las repeticiones\n",
    "            #print(num)  #comentado para poder enfocarme en las repeticiones\n",
    "print(\"sin break se repitio \",repeticiones)\n",
    "##con break\n",
    "repeticiones = 0\n",
    "for num in range(0,31):\n",
    "    if(num > 1):\n",
    "        cont=0\n",
    "        for i in range(2,num):\n",
    "            repeticiones+=1\n",
    "            resto= num%i\n",
    "            if(resto == 0):\n",
    "                cont+=1\n",
    "                break \n",
    "        #if(cont == 0): #muestra los numeros primos no afecta las repeticiones\n",
    "            #print(num)  #comentado para poder enfocarme en las repeticiones\n",
    "print(\"con break se repitio\",repeticiones)\n",
    "\n",
    "print(\"con break se repite hasta 1/4 parte de lo que que se repite sin break\")"
   ]
  },
  {
   "attachments": {},
   "cell_type": "markdown",
   "metadata": {},
   "source": [
    "12) Si la cantidad de números que se evalúa es mayor a treinta, esa optimización crece?"
   ]
  },
  {
   "cell_type": "code",
   "execution_count": 12,
   "metadata": {},
   "outputs": [
    {
     "name": "stdout",
     "output_type": "stream",
     "text": [
      "sin break se repitio  4753\n",
      "con break se repitio 1132\n",
      "con break se repite hasta 1/4 parte de lo que que se repite sin break\n"
     ]
    }
   ],
   "source": [
    "cont = 0\n",
    "##sin break\n",
    "repeticiones = 0\n",
    "for num in range(0,100):\n",
    "    if(num > 1):\n",
    "        cont=0\n",
    "        for i in range(2,num):\n",
    "            repeticiones+=1\n",
    "            resto= num%i\n",
    "            if(resto == 0):\n",
    "                cont+=1\n",
    "        #if(cont == 0): #muestra los numeros primos no afecta las repeticiones\n",
    "            #print(num)  #comentado para poder enfocarme en las repeticiones\n",
    "print(\"sin break se repitio \",repeticiones)\n",
    "##con break\n",
    "repeticiones = 0\n",
    "for num in range(0,100):\n",
    "    if(num > 1):\n",
    "        cont=0\n",
    "        for i in range(2,num):\n",
    "            repeticiones+=1\n",
    "            resto= num%i\n",
    "            if(resto == 0):\n",
    "                cont+=1\n",
    "                break \n",
    "        #if(cont == 0): #muestra los numeros primos no afecta las repeticiones\n",
    "            #print(num)  #comentado para poder enfocarme en las repeticiones\n",
    "print(\"con break se repitio\",repeticiones)\n",
    "\n",
    "print(\"con break se repite hasta 1/4 parte de lo que que se repite sin break\")"
   ]
  },
  {
   "attachments": {},
   "cell_type": "markdown",
   "metadata": {},
   "source": [
    "13) Aplicando continue, armar un ciclo while que solo imprima los valores divisibles por 12, dentro del rango de números de 100 a 300"
   ]
  },
  {
   "cell_type": "code",
   "execution_count": 13,
   "metadata": {},
   "outputs": [
    {
     "name": "stdout",
     "output_type": "stream",
     "text": [
      "108 es divisible entre 12\n",
      "120 es divisible entre 12\n",
      "132 es divisible entre 12\n",
      "144 es divisible entre 12\n",
      "156 es divisible entre 12\n",
      "168 es divisible entre 12\n",
      "180 es divisible entre 12\n",
      "192 es divisible entre 12\n",
      "204 es divisible entre 12\n",
      "216 es divisible entre 12\n",
      "228 es divisible entre 12\n",
      "240 es divisible entre 12\n",
      "252 es divisible entre 12\n",
      "264 es divisible entre 12\n",
      "276 es divisible entre 12\n",
      "288 es divisible entre 12\n",
      "300 es divisible entre 12\n"
     ]
    }
   ],
   "source": [
    "num=100\n",
    "\n",
    "while num <=  300:\n",
    "    num = num + 1\n",
    "    if num % 12 == 0:\n",
    "        print(num,\"es divisible entre 12\")\n",
    "    "
   ]
  },
  {
   "attachments": {},
   "cell_type": "markdown",
   "metadata": {},
   "source": [
    "14) Utilizar la función **input()** que permite hacer ingresos por teclado, para encontrar números primos y dar la opción al usario de buscar el siguiente"
   ]
  },
  {
   "cell_type": "code",
   "execution_count": 14,
   "metadata": {},
   "outputs": [
    {
     "name": "stdout",
     "output_type": "stream",
     "text": [
      "1\n",
      "¿Desea encontrar el siguiente número primo? y/n\n",
      "2\n",
      "¿Desea encontrar el siguiente número primo? y/n\n",
      "3\n",
      "¿Desea encontrar el siguiente número primo? y/n\n",
      "5\n",
      "¿Desea encontrar el siguiente número primo? y/n\n",
      "7\n",
      "¿Desea encontrar el siguiente número primo? y/n\n",
      "final de la ejecución\n"
     ]
    }
   ],
   "source": [
    "n = 1\n",
    "sigue = 1\n",
    "primo = True\n",
    "while (sigue == 1):\n",
    "    for div in range(2, n):\n",
    "        if (n % div == 0):\n",
    "            primo = False\n",
    "            break\n",
    "    if (primo):\n",
    "        print(n)\n",
    "        print(\"¿Desea encontrar el siguiente número primo? y/n\")\n",
    "        if (input() != \"y\"):\n",
    "            print(\"final de la ejecución\")\n",
    "            break\n",
    "    else:\n",
    "        primo = True\n",
    "    n += 1\n",
    "    "
   ]
  },
  {
   "attachments": {},
   "cell_type": "markdown",
   "metadata": {},
   "source": [
    "15) Crear un ciclo while que encuentre dentro del rango de 100 a 300 el primer número divisible por 3 y además múltiplo de 6"
   ]
  },
  {
   "cell_type": "code",
   "execution_count": 15,
   "metadata": {},
   "outputs": [
    {
     "name": "stdout",
     "output_type": "stream",
     "text": [
      "102 es el primer divisible entre 3 y multiplo de 6\n"
     ]
    }
   ],
   "source": [
    "num=100\n",
    "\n",
    "while num <=  300:\n",
    "    num = num + 1\n",
    "    if num % 3 == 0 and num % 6 == 0: #se podria colocar solo la parte de num % 6 por que si es multiplo de 6 es divisible entre 3\n",
    "        print(num,\"es el primer divisible entre 3 y multiplo de 6\")\n",
    "        break\n",
    "    "
   ]
  }
 ],
 "metadata": {
  "interpreter": {
   "hash": "c85384e4cb51c8b72350f3a8712cc8351fdc3955e32a27f9b60c6242ab125f01"
  },
  "kernelspec": {
   "display_name": "Python 3 (ipykernel)",
   "language": "python",
   "name": "python3"
  },
  "language_info": {
   "codemirror_mode": {
    "name": "ipython",
    "version": 3
   },
   "file_extension": ".py",
   "mimetype": "text/x-python",
   "name": "python",
   "nbconvert_exporter": "python",
   "pygments_lexer": "ipython3",
   "version": "3.11.4"
  }
 },
 "nbformat": 4,
 "nbformat_minor": 4
}
